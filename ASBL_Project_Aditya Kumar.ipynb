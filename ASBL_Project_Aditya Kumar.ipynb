{
 "cells": [
  {
   "cell_type": "markdown",
   "id": "5138c1e4",
   "metadata": {},
   "source": [
    "# Preface\n",
    "\n",
    "This tabular DataSet consists of listings of all the movies and tv shows available on Netflix, along with details such as\n",
    "<ul>\n",
    "    <li>Type</li>\n",
    "    <li>Title</li>\n",
    "    <li>Director</li> \n",
    "    <li>Cast</li> \n",
    "    <li>Country</li>\n",
    "    <li>Release_year</li>\n",
    "    <li>Genres</li>\n",
    "</ul>\n",
    "\n",
    "The attributes or features of the DataSet are\n",
    "\n",
    "<ul>\n",
    "    <li>Type: Whether the content is a Movie or TV Show</li>\n",
    "    <li>Title: Title of the Movie / TV Show</li>\n",
    "    <li>Director: Director of the Movie. There can be multiple directors also.</li>\n",
    "    <li>Cast: Actors involved in the movie/show</li>\n",
    "    <li>Country: The country where the movie/show was produced</li>\n",
    "    <li>Release_year: Actual Release year of the movie or tv show</li>\n",
    "    <li>Genres: Genre or Genres of the content (there can be multiple genres as well say the movie Avengers is Sci-Fi but it is Action and Adventure too)</li>\n",
    "</ul>"
   ]
  },
  {
   "cell_type": "markdown",
   "id": "f5cd932c",
   "metadata": {},
   "source": [
    "---\n",
    "## Index\n",
    "\n",
    "<ol>\n",
    "    <li>Importing the Dataset</li>\n",
    "    <li>Data Analysis\n",
    "        <ul>\n",
    "            <li>Exploratory Data Analysis</li>\n",
    "            <li>Data Visualization</li>\n",
    "            <li>Recommendations</li>\n",
    "        </ul>\n",
    "    </li>\n",
    "    <li>Problem statements</li>\n",
    "    <ol>\n",
    "        <li>Which are the top 5 directors who produce most of the movies only?</li>\n",
    "        <li>Which are the top 5 genres which are liked by people or here liking means listed on the portal of Netflix?</li>\n",
    "        <li>Which 2 directors should Netflix collaborate with more based on the increase in their movies or tv shows over the past years? [OPTIONAL]</li>\n",
    "        <li>Which are the top 10 actors who are liked by people and have the most content on the Netflix OTT platform?</li>\n",
    "        <li>Which 2 actors should Netflix collaborate with more based on the increase in their movies or tv shows over the past years? [OPTIONAL]</li>\n",
    "    <ol>\n",
    "</ol>"
   ]
  },
  {
   "cell_type": "markdown",
   "id": "fb1b612e",
   "metadata": {},
   "source": [
    "---\n",
    "### 1. Importing the dataset in CSV Format 'asbl_data_analyst_interview_assignment_netflix_csv.csv'"
   ]
  },
  {
   "cell_type": "code",
   "execution_count": 176,
   "id": "3eaaee2b",
   "metadata": {
    "scrolled": true
   },
   "outputs": [],
   "source": [
    "# importing pandas library\n",
    "import pandas as pd"
   ]
  },
  {
   "cell_type": "code",
   "execution_count": 177,
   "id": "cd58e040",
   "metadata": {},
   "outputs": [],
   "source": [
    "# importing the dataset\n",
    "df_netflix = pd.read_csv('asbl_data_analyst_interview_assignment_netflix_csv.csv', encoding = 'latin')"
   ]
  },
  {
   "cell_type": "markdown",
   "id": "9a553bdb",
   "metadata": {},
   "source": [
    "---\n",
    "### 2. Exploratory Data Analysis"
   ]
  },
  {
   "cell_type": "code",
   "execution_count": 178,
   "id": "8d80d489",
   "metadata": {},
   "outputs": [],
   "source": [
    "# importing the matplotlib library\n",
    "import matplotlib.pyplot as plt\n",
    "\n",
    "#importing the seaborn library\n",
    "#import seaborn as sns\n",
    "\n",
    "#importing the numpy library\n",
    "import numpy as np"
   ]
  },
  {
   "cell_type": "code",
   "execution_count": 179,
   "id": "db146e93",
   "metadata": {
    "scrolled": true
   },
   "outputs": [
    {
     "name": "stdout",
     "output_type": "stream",
     "text": [
      "Information about the dataset: \n",
      "\n",
      "<class 'pandas.core.frame.DataFrame'>\n",
      "RangeIndex: 8807 entries, 0 to 8806\n",
      "Data columns (total 8 columns):\n",
      " #   Column        Non-Null Count  Dtype \n",
      "---  ------        --------------  ----- \n",
      " 0   Index         8807 non-null   int64 \n",
      " 1   Type          8807 non-null   object\n",
      " 2   Title         8807 non-null   object\n",
      " 3   Director      6173 non-null   object\n",
      " 4   Cast          7982 non-null   object\n",
      " 5   Country       7976 non-null   object\n",
      " 6   Release_year  8807 non-null   int64 \n",
      " 7   Genres        8807 non-null   object\n",
      "dtypes: int64(2), object(6)\n",
      "memory usage: 550.6+ KB\n"
     ]
    }
   ],
   "source": [
    "# printing the informaiton about the dataset\n",
    "print(\"Information about the dataset: \\n\")\n",
    "df_netflix.info()"
   ]
  },
  {
   "cell_type": "code",
   "execution_count": 180,
   "id": "a0321ff3",
   "metadata": {},
   "outputs": [
    {
     "name": "stdout",
     "output_type": "stream",
     "text": [
      "Shape of data: Rows x Columns \n",
      " (8807, 8)\n"
     ]
    }
   ],
   "source": [
    "# printing the shape of data\n",
    "print(\"Shape of data: Rows x Columns \\n\", df_netflix.shape)"
   ]
  },
  {
   "cell_type": "code",
   "execution_count": 181,
   "id": "f711206d",
   "metadata": {},
   "outputs": [
    {
     "data": {
      "text/html": [
       "<div>\n",
       "<style scoped>\n",
       "    .dataframe tbody tr th:only-of-type {\n",
       "        vertical-align: middle;\n",
       "    }\n",
       "\n",
       "    .dataframe tbody tr th {\n",
       "        vertical-align: top;\n",
       "    }\n",
       "\n",
       "    .dataframe thead th {\n",
       "        text-align: right;\n",
       "    }\n",
       "</style>\n",
       "<table border=\"1\" class=\"dataframe\">\n",
       "  <thead>\n",
       "    <tr style=\"text-align: right;\">\n",
       "      <th></th>\n",
       "      <th>Index</th>\n",
       "      <th>Type</th>\n",
       "      <th>Title</th>\n",
       "      <th>Director</th>\n",
       "      <th>Cast</th>\n",
       "      <th>Country</th>\n",
       "      <th>Release_year</th>\n",
       "      <th>Genres</th>\n",
       "    </tr>\n",
       "  </thead>\n",
       "  <tbody>\n",
       "    <tr>\n",
       "      <th>0</th>\n",
       "      <td>1</td>\n",
       "      <td>Movie</td>\n",
       "      <td>Dick Johnson Is Dead</td>\n",
       "      <td>Kirsten Johnson</td>\n",
       "      <td>NaN</td>\n",
       "      <td>United States</td>\n",
       "      <td>2020</td>\n",
       "      <td>Documentaries</td>\n",
       "    </tr>\n",
       "    <tr>\n",
       "      <th>1</th>\n",
       "      <td>2</td>\n",
       "      <td>TV Show</td>\n",
       "      <td>Blood &amp; Water</td>\n",
       "      <td>NaN</td>\n",
       "      <td>Ama Qamata, Khosi Ngema, Gail Mabalane, Thaban...</td>\n",
       "      <td>South Africa</td>\n",
       "      <td>2021</td>\n",
       "      <td>International TV Shows, TV Dramas, TV Mysteries</td>\n",
       "    </tr>\n",
       "    <tr>\n",
       "      <th>2</th>\n",
       "      <td>3</td>\n",
       "      <td>TV Show</td>\n",
       "      <td>Ganglands</td>\n",
       "      <td>Julien Leclercq</td>\n",
       "      <td>Sami Bouajila, Tracy Gotoas, Samuel Jouy, Nabi...</td>\n",
       "      <td>NaN</td>\n",
       "      <td>2021</td>\n",
       "      <td>Crime TV Shows, International TV Shows, TV Act...</td>\n",
       "    </tr>\n",
       "    <tr>\n",
       "      <th>3</th>\n",
       "      <td>4</td>\n",
       "      <td>TV Show</td>\n",
       "      <td>Jailbirds New Orleans</td>\n",
       "      <td>NaN</td>\n",
       "      <td>NaN</td>\n",
       "      <td>NaN</td>\n",
       "      <td>2021</td>\n",
       "      <td>Docuseries, Reality TV</td>\n",
       "    </tr>\n",
       "    <tr>\n",
       "      <th>4</th>\n",
       "      <td>5</td>\n",
       "      <td>TV Show</td>\n",
       "      <td>Kota Factory</td>\n",
       "      <td>NaN</td>\n",
       "      <td>Mayur More, Jitendra Kumar, Ranjan Raj, Alam K...</td>\n",
       "      <td>India</td>\n",
       "      <td>2021</td>\n",
       "      <td>International TV Shows, Romantic TV Shows, TV ...</td>\n",
       "    </tr>\n",
       "  </tbody>\n",
       "</table>\n",
       "</div>"
      ],
      "text/plain": [
       "   Index     Type                  Title         Director  \\\n",
       "0      1    Movie   Dick Johnson Is Dead  Kirsten Johnson   \n",
       "1      2  TV Show          Blood & Water              NaN   \n",
       "2      3  TV Show              Ganglands  Julien Leclercq   \n",
       "3      4  TV Show  Jailbirds New Orleans              NaN   \n",
       "4      5  TV Show           Kota Factory              NaN   \n",
       "\n",
       "                                                Cast        Country  \\\n",
       "0                                                NaN  United States   \n",
       "1  Ama Qamata, Khosi Ngema, Gail Mabalane, Thaban...   South Africa   \n",
       "2  Sami Bouajila, Tracy Gotoas, Samuel Jouy, Nabi...            NaN   \n",
       "3                                                NaN            NaN   \n",
       "4  Mayur More, Jitendra Kumar, Ranjan Raj, Alam K...          India   \n",
       "\n",
       "   Release_year                                             Genres  \n",
       "0          2020                                      Documentaries  \n",
       "1          2021    International TV Shows, TV Dramas, TV Mysteries  \n",
       "2          2021  Crime TV Shows, International TV Shows, TV Act...  \n",
       "3          2021                             Docuseries, Reality TV  \n",
       "4          2021  International TV Shows, Romantic TV Shows, TV ...  "
      ]
     },
     "execution_count": 181,
     "metadata": {},
     "output_type": "execute_result"
    }
   ],
   "source": [
    "# displaying the top 5 rows in the dataset\n",
    "df_netflix.head()"
   ]
  },
  {
   "cell_type": "code",
   "execution_count": 182,
   "id": "c596d802",
   "metadata": {},
   "outputs": [
    {
     "data": {
      "text/plain": [
       "Index              0\n",
       "Type               0\n",
       "Title              0\n",
       "Director        2634\n",
       "Cast             825\n",
       "Country          831\n",
       "Release_year       0\n",
       "Genres             0\n",
       "dtype: int64"
      ]
     },
     "execution_count": 182,
     "metadata": {},
     "output_type": "execute_result"
    }
   ],
   "source": [
    "# checking for Null values in the dataset\n",
    "df_netflix.isnull().sum()"
   ]
  },
  {
   "cell_type": "markdown",
   "id": "5a1037a7",
   "metadata": {},
   "source": [
    "---\n",
    "#### 2.a. Analysing Countries and determining emerging markets"
   ]
  },
  {
   "cell_type": "code",
   "execution_count": 183,
   "id": "8c6744d1",
   "metadata": {},
   "outputs": [
    {
     "data": {
      "text/html": [
       "<div>\n",
       "<style scoped>\n",
       "    .dataframe tbody tr th:only-of-type {\n",
       "        vertical-align: middle;\n",
       "    }\n",
       "\n",
       "    .dataframe tbody tr th {\n",
       "        vertical-align: top;\n",
       "    }\n",
       "\n",
       "    .dataframe thead th {\n",
       "        text-align: right;\n",
       "    }\n",
       "</style>\n",
       "<table border=\"1\" class=\"dataframe\">\n",
       "  <thead>\n",
       "    <tr style=\"text-align: right;\">\n",
       "      <th></th>\n",
       "      <th>Country</th>\n",
       "    </tr>\n",
       "  </thead>\n",
       "  <tbody>\n",
       "    <tr>\n",
       "      <th>0</th>\n",
       "      <td>United States</td>\n",
       "    </tr>\n",
       "    <tr>\n",
       "      <th>1</th>\n",
       "      <td>South Africa</td>\n",
       "    </tr>\n",
       "    <tr>\n",
       "      <th>2</th>\n",
       "      <td>NaN</td>\n",
       "    </tr>\n",
       "    <tr>\n",
       "      <th>3</th>\n",
       "      <td>NaN</td>\n",
       "    </tr>\n",
       "    <tr>\n",
       "      <th>4</th>\n",
       "      <td>India</td>\n",
       "    </tr>\n",
       "    <tr>\n",
       "      <th>...</th>\n",
       "      <td>...</td>\n",
       "    </tr>\n",
       "    <tr>\n",
       "      <th>8802</th>\n",
       "      <td>United States</td>\n",
       "    </tr>\n",
       "    <tr>\n",
       "      <th>8803</th>\n",
       "      <td>NaN</td>\n",
       "    </tr>\n",
       "    <tr>\n",
       "      <th>8804</th>\n",
       "      <td>United States</td>\n",
       "    </tr>\n",
       "    <tr>\n",
       "      <th>8805</th>\n",
       "      <td>United States</td>\n",
       "    </tr>\n",
       "    <tr>\n",
       "      <th>8806</th>\n",
       "      <td>India</td>\n",
       "    </tr>\n",
       "  </tbody>\n",
       "</table>\n",
       "<p>8807 rows × 1 columns</p>\n",
       "</div>"
      ],
      "text/plain": [
       "            Country\n",
       "0     United States\n",
       "1      South Africa\n",
       "2               NaN\n",
       "3               NaN\n",
       "4             India\n",
       "...             ...\n",
       "8802  United States\n",
       "8803            NaN\n",
       "8804  United States\n",
       "8805  United States\n",
       "8806          India\n",
       "\n",
       "[8807 rows x 1 columns]"
      ]
     },
     "execution_count": 183,
     "metadata": {},
     "output_type": "execute_result"
    }
   ],
   "source": [
    "# analysing presence of Netflix in different countries\n",
    "df_countries = df_netflix[['Country']].copy()\n",
    "\n",
    "# displaying the dataframe\n",
    "df_countries"
   ]
  },
  {
   "cell_type": "code",
   "execution_count": 184,
   "id": "41856027",
   "metadata": {},
   "outputs": [
    {
     "data": {
      "text/plain": [
       "United States                             2818\n",
       "India                                      972\n",
       "United Kingdom                             419\n",
       "Japan                                      245\n",
       "South Korea                                199\n",
       "                                          ... \n",
       "Romania, Bulgaria, Hungary                   1\n",
       "Uruguay, Guatemala                           1\n",
       "France, Senegal, Belgium                     1\n",
       "Mexico, United States, Spain, Colombia       1\n",
       "United Arab Emirates, Jordan                 1\n",
       "Name: Country, Length: 748, dtype: int64"
      ]
     },
     "execution_count": 184,
     "metadata": {},
     "output_type": "execute_result"
    }
   ],
   "source": [
    "# dropping the Null value Rows from the dataframe\n",
    "df_countries.dropna\n",
    "\n",
    "# displaying the count of each country\n",
    "df_countries.Country.value_counts()"
   ]
  },
  {
   "cell_type": "code",
   "execution_count": 185,
   "id": "1367ea1f",
   "metadata": {},
   "outputs": [
    {
     "data": {
      "text/plain": [
       "Country       \n",
       "United States     3690\n",
       "India             1046\n",
       "United Kingdom     806\n",
       "Canada             445\n",
       "France             393\n",
       "                  ... \n",
       "Jamaica              1\n",
       "Slovakia             1\n",
       "Nicaragua            1\n",
       "Ethiopia             1\n",
       "Liechtenstein        1\n",
       "Length: 123, dtype: int64"
      ]
     },
     "execution_count": 185,
     "metadata": {},
     "output_type": "execute_result"
    }
   ],
   "source": [
    "# splitting the Country column on ',' delimeter as there are multiple values in some cells\n",
    "# splitting the values in the 'Country' column on ',' then creating a new row for each value, and assigning the resulting dataframe back to the df variable. \n",
    "# then reset_index(drop=True) call is used for resetting the row index after the splitting\n",
    "df_c = df_countries.assign(Country = df_countries.Country.str.split(',')).explode('Country').reset_index(drop = True)\n",
    "\n",
    "# removing the leading spaces introduced during splitting the columns\n",
    "df_c['Country'] = df_c['Country'].str.lstrip()\n",
    "\n",
    "# displaying the value counts of each country\n",
    "#df_c.shape\n",
    "df_c.value_counts()"
   ]
  },
  {
   "cell_type": "code",
   "execution_count": 186,
   "id": "d281b51f",
   "metadata": {
    "scrolled": false
   },
   "outputs": [
    {
     "data": {
      "text/plain": [
       "Text(0, 0.5, 'Count')"
      ]
     },
     "execution_count": 186,
     "metadata": {},
     "output_type": "execute_result"
    },
    {
     "data": {
      "image/png": "[encoded data removed]",
      "text/plain": [
       "<Figure size 640x480 with 1 Axes>"
      ]
     },
     "metadata": {},
     "output_type": "display_data"
    }
   ],
   "source": [
    "# plotting a barplot with top 10 occuring countries\n",
    "df_c.Country.value_counts().sort_values(ascending=0)[:10].plot(kind = 'bar')\n",
    "plt.xlabel('Country')\n",
    "plt.ylabel('Count')\n",
    "#df_c.shape"
   ]
  },
  {
   "cell_type": "markdown",
   "id": "4ec1f236",
   "metadata": {},
   "source": [
    "<h4>In the above Bar Plot we can see that United States is the most popular country in terms of Movies and TV Shows and <br><br>\n",
    "<i>1. India</i><br>\n",
    "<i>2. United Kingdom</i><br>\n",
    "<i>3. Canada</i><br> \n",
    "<i>4. France</i><br><br> are the top 4 emerging markets for producing Movies and TV Shows</h4>"
   ]
  },
  {
   "cell_type": "markdown",
   "id": "e93d7a00",
   "metadata": {},
   "source": [
    "---\n",
    "#### 2.b. Analysing Genres and determining the most viewed genres across countries"
   ]
  },
  {
   "cell_type": "code",
   "execution_count": 187,
   "id": "597510ec",
   "metadata": {},
   "outputs": [
    {
     "data": {
      "text/html": [
       "<div>\n",
       "<style scoped>\n",
       "    .dataframe tbody tr th:only-of-type {\n",
       "        vertical-align: middle;\n",
       "    }\n",
       "\n",
       "    .dataframe tbody tr th {\n",
       "        vertical-align: top;\n",
       "    }\n",
       "\n",
       "    .dataframe thead th {\n",
       "        text-align: right;\n",
       "    }\n",
       "</style>\n",
       "<table border=\"1\" class=\"dataframe\">\n",
       "  <thead>\n",
       "    <tr style=\"text-align: right;\">\n",
       "      <th></th>\n",
       "      <th>Genres</th>\n",
       "    </tr>\n",
       "  </thead>\n",
       "  <tbody>\n",
       "    <tr>\n",
       "      <th>0</th>\n",
       "      <td>Documentaries</td>\n",
       "    </tr>\n",
       "    <tr>\n",
       "      <th>1</th>\n",
       "      <td>International TV Shows, TV Dramas, TV Mysteries</td>\n",
       "    </tr>\n",
       "    <tr>\n",
       "      <th>2</th>\n",
       "      <td>Crime TV Shows, International TV Shows, TV Act...</td>\n",
       "    </tr>\n",
       "    <tr>\n",
       "      <th>3</th>\n",
       "      <td>Docuseries, Reality TV</td>\n",
       "    </tr>\n",
       "    <tr>\n",
       "      <th>4</th>\n",
       "      <td>International TV Shows, Romantic TV Shows, TV ...</td>\n",
       "    </tr>\n",
       "    <tr>\n",
       "      <th>...</th>\n",
       "      <td>...</td>\n",
       "    </tr>\n",
       "    <tr>\n",
       "      <th>8802</th>\n",
       "      <td>Cult Movies, Dramas, Thrillers</td>\n",
       "    </tr>\n",
       "    <tr>\n",
       "      <th>8803</th>\n",
       "      <td>Kids' TV, Korean TV Shows, TV Comedies</td>\n",
       "    </tr>\n",
       "    <tr>\n",
       "      <th>8804</th>\n",
       "      <td>Comedies, Horror Movies</td>\n",
       "    </tr>\n",
       "    <tr>\n",
       "      <th>8805</th>\n",
       "      <td>Children &amp; Family Movies, Comedies</td>\n",
       "    </tr>\n",
       "    <tr>\n",
       "      <th>8806</th>\n",
       "      <td>Dramas, International Movies, Music &amp; Musicals</td>\n",
       "    </tr>\n",
       "  </tbody>\n",
       "</table>\n",
       "<p>8807 rows × 1 columns</p>\n",
       "</div>"
      ],
      "text/plain": [
       "                                                 Genres\n",
       "0                                         Documentaries\n",
       "1       International TV Shows, TV Dramas, TV Mysteries\n",
       "2     Crime TV Shows, International TV Shows, TV Act...\n",
       "3                                Docuseries, Reality TV\n",
       "4     International TV Shows, Romantic TV Shows, TV ...\n",
       "...                                                 ...\n",
       "8802                     Cult Movies, Dramas, Thrillers\n",
       "8803             Kids' TV, Korean TV Shows, TV Comedies\n",
       "8804                            Comedies, Horror Movies\n",
       "8805                 Children & Family Movies, Comedies\n",
       "8806     Dramas, International Movies, Music & Musicals\n",
       "\n",
       "[8807 rows x 1 columns]"
      ]
     },
     "execution_count": 187,
     "metadata": {},
     "output_type": "execute_result"
    }
   ],
   "source": [
    "# analysing different Genres on Netflix\n",
    "df_genre = df_netflix[['Genres']].copy()\n",
    "\n",
    "# displaying the dataframe\n",
    "df_genre"
   ]
  },
  {
   "cell_type": "code",
   "execution_count": 188,
   "id": "1c26080f",
   "metadata": {},
   "outputs": [
    {
     "data": {
      "text/plain": [
       "Dramas, International Movies                          362\n",
       "Documentaries                                         359\n",
       "Stand-Up Comedy                                       334\n",
       "Comedies, Dramas, International Movies                274\n",
       "Dramas, Independent Movies, International Movies      252\n",
       "                                                     ... \n",
       "Kids' TV, TV Action & Adventure, TV Dramas              1\n",
       "TV Comedies, TV Dramas, TV Horror                       1\n",
       "Children & Family Movies, Comedies, LGBTQ Movies        1\n",
       "Kids' TV, Spanish-Language TV Shows, Teen TV Shows      1\n",
       "Cult Movies, Dramas, Thrillers                          1\n",
       "Name: Genres, Length: 514, dtype: int64"
      ]
     },
     "execution_count": 188,
     "metadata": {},
     "output_type": "execute_result"
    }
   ],
   "source": [
    "# dropping the Null value Rows from the dataframe\n",
    "df_genre.dropna\n",
    "\n",
    "# displaying the count of each country\n",
    "df_genre.Genres.value_counts()"
   ]
  },
  {
   "cell_type": "code",
   "execution_count": 189,
   "id": "e2b15c66",
   "metadata": {},
   "outputs": [
    {
     "data": {
      "text/plain": [
       "Genres                      \n",
       "International Movies            2752\n",
       "Dramas                          2427\n",
       "Comedies                        1674\n",
       "International TV Shows          1351\n",
       "Documentaries                    869\n",
       "Action & Adventure               859\n",
       "TV Dramas                        763\n",
       "Independent Movies               756\n",
       "Children & Family Movies         641\n",
       "Romantic Movies                  616\n",
       "TV Comedies                      581\n",
       "Thrillers                        577\n",
       "Crime TV Shows                   470\n",
       "Kids' TV                         451\n",
       "Docuseries                       395\n",
       "Music & Musicals                 375\n",
       "Romantic TV Shows                370\n",
       "Horror Movies                    357\n",
       "Stand-Up Comedy                  343\n",
       "Reality TV                       255\n",
       "British TV Shows                 253\n",
       "Sci-Fi & Fantasy                 243\n",
       "Sports Movies                    219\n",
       "Anime Series                     176\n",
       "Spanish-Language TV Shows        174\n",
       "TV Action & Adventure            168\n",
       "Korean TV Shows                  151\n",
       "Classic Movies                   116\n",
       "LGBTQ Movies                     102\n",
       "TV Mysteries                      98\n",
       "Science & Nature TV               92\n",
       "TV Sci-Fi & Fantasy               84\n",
       "TV Horror                         75\n",
       "Anime Features                    71\n",
       "Cult Movies                       71\n",
       "Teen TV Shows                     69\n",
       "Faith & Spirituality              65\n",
       "TV Thrillers                      57\n",
       "Movies                            57\n",
       "Stand-Up Comedy & Talk Shows      56\n",
       "Classic & Cult TV                 28\n",
       "TV Shows                          16\n",
       "dtype: int64"
      ]
     },
     "execution_count": 189,
     "metadata": {},
     "output_type": "execute_result"
    }
   ],
   "source": [
    "# splitting the Genre column on ',' delimeter as there are multiple values in some cells\n",
    "# splitting the values in the 'Genre' column by ',' then creating a new row for each value, and assigning the resulting dataframe back to the df variable. \n",
    "# then reset_index(drop=True) call is used for resetting the row index after the explosion\n",
    "df_g = df_genre.assign(Genres = df_genre.Genres.str.split(',')).explode('Genres').reset_index(drop = True)\n",
    "\n",
    "# removing the leading spaces introduced during splitting the columns\n",
    "df_g['Genres'] = df_g['Genres'].str.lstrip()\n",
    "\n",
    "# displaying the value counts of each genre\n",
    "#df_g.shape\n",
    "df_g.value_counts()"
   ]
  },
  {
   "cell_type": "code",
   "execution_count": 191,
   "id": "ba5fb628",
   "metadata": {},
   "outputs": [
    {
     "data": {
      "text/plain": [
       "Text(0, 0.5, 'Count')"
      ]
     },
     "execution_count": 191,
     "metadata": {},
     "output_type": "execute_result"
    },
    {
     "data": {
      "image/png": "[encoded data removed]",
      "text/plain": [
       "<Figure size 640x480 with 1 Axes>"
      ]
     },
     "metadata": {},
     "output_type": "display_data"
    }
   ],
   "source": [
    "# plotting a barplot with top 10 occuring genres\n",
    "df_g.Genres.value_counts().sort_values(ascending=0)[:10].plot(kind = 'bar')\n",
    "plt.xlabel('Genre')\n",
    "plt.ylabel('Count')\n",
    "#df_g.shape"
   ]
  },
  {
   "cell_type": "markdown",
   "id": "a28887d0",
   "metadata": {},
   "source": [
    "<h4>In the above Bar Plot we can see that<br><br>\n",
    "    <i>1. International Movies</i><br>\n",
    "    <i>2. Dramas</i><br>\n",
    "    <i>3. Comedies</i><br>\n",
    "    <i>4. International TV Shows</i><br><br>\n",
    "    Are the top 4 most viewed Genres across all countries<br><br>\n",
    "    So, more content should be made and released in these Genres\n",
    "</h4>"
   ]
  },
  {
   "cell_type": "markdown",
   "id": "aca715e9",
   "metadata": {},
   "source": [
    "---\n",
    "#### 2.c. Analysing the Type of content made across countries"
   ]
  },
  {
   "cell_type": "code",
   "execution_count": 192,
   "id": "61f18304",
   "metadata": {
    "scrolled": false
   },
   "outputs": [
    {
     "data": {
      "text/plain": [
       "Text(0, 0.5, 'Type')"
      ]
     },
     "execution_count": 192,
     "metadata": {},
     "output_type": "execute_result"
    },
    {
     "data": {
      "image/png": "[encoded data removed]",
      "text/plain": [
       "<Figure size 640x480 with 1 Axes>"
      ]
     },
     "metadata": {},
     "output_type": "display_data"
    }
   ],
   "source": [
    "# comparing the total number of TV Shows and total number of Movies\n",
    "df_netflix.Type.value_counts().plot.barh()\n",
    "plt.xlabel('Count')\n",
    "plt.ylabel('Type')"
   ]
  },
  {
   "cell_type": "markdown",
   "id": "910a6778",
   "metadata": {},
   "source": [
    "<h4>Movies are made more than TV Shows across countries, it shows that movies are more preferred entertainment medium than TV Shows<br><br>\n",
    "So, more movies in popular genres should be made and released</h4>"
   ]
  },
  {
   "cell_type": "markdown",
   "id": "83123339",
   "metadata": {},
   "source": [
    "---\n",
    "### 4. Problems\n",
    "### a. Which are the top 5 directors who produce most of the movies only?"
   ]
  },
  {
   "cell_type": "code",
   "execution_count": 193,
   "id": "d2ec6004",
   "metadata": {},
   "outputs": [],
   "source": [
    "# importing the csv file with only the required columns 'Type' & 'Director'\n",
    "directors_df = pd.read_csv('asbl_data_analyst_interview_assignment_netflix_csv.csv', usecols = ['Type', 'Director'], encoding = 'latin')"
   ]
  },
  {
   "cell_type": "code",
   "execution_count": 194,
   "id": "3a4cbeb1",
   "metadata": {},
   "outputs": [],
   "source": [
    "# importing the zip_longest function from the itertools module. \n",
    "# the zip_longest function allows combining two or more iterables, filling in any missing values with a specified value.\n",
    "from itertools import zip_longest\n",
    "\n",
    "# setting the index of a DataFrame directors to the column named 'Type', and then applies a lambda function to split each value in the DataFrame by the ',' character. \n",
    "# The result is stored in a new DataFrame called temp_df.\n",
    "temp_df = directors_df.set_index('Type').apply(lambda x: x.str.split(','))\n",
    "\n",
    "# replacing any null values in the tmp DataFrame with an empty string ''.\n",
    "result_directors = (temp_df.where(temp_df.notnull(), '')\n",
    "          \n",
    "          # applying a lambda function to each row of the tmp DataFrame. \n",
    "          # The lambda function uses the zip_longest function to combine the values in each row into tuples. \n",
    "          # The resulting tuples are then converted to a list.\n",
    "          .apply(lambda x: list(zip_longest(*x)), axis = 1)\n",
    "          \n",
    "          # exploding each list in the DataFrame into separate rows, duplicating the other values in the row as necessary.\n",
    "          .explode()\n",
    "          \n",
    "          # converting each tuple in the DataFrame to a separate Series object.\n",
    "          .apply(pd.Series)\n",
    "          \n",
    "          # setting the column names of the DataFrame to the original column names of the tmp DataFrame.\n",
    "          .set_axis(temp_df.columns, axis = 1)\n",
    "          \n",
    "          # resetting the index of the DataFrame, adding a new column named 'index' to store the original index values of the tmp DataFrame.\n",
    "          ).reset_index()\n",
    "\n",
    "# printing the result for debugging\n",
    "#print(result)"
   ]
  },
  {
   "cell_type": "code",
   "execution_count": 195,
   "id": "f296b981",
   "metadata": {},
   "outputs": [],
   "source": [
    "# dropping all the rows that are TV Show\n",
    "directors_count = result_directors[result_directors['Type'] != 'TV Show'].copy()\n",
    "\n",
    "# dropping the Type column\n",
    "directors_count.drop(['Type'], axis = 1)\n",
    "\n",
    "# removing the leading spaces introduced during splitting the column\n",
    "directors_count['Director'] = directors_count['Director'].str.lstrip()"
   ]
  },
  {
   "cell_type": "code",
   "execution_count": 196,
   "id": "89be27b3",
   "metadata": {
    "scrolled": true
   },
   "outputs": [
    {
     "data": {
      "text/html": [
       "<div>\n",
       "<style scoped>\n",
       "    .dataframe tbody tr th:only-of-type {\n",
       "        vertical-align: middle;\n",
       "    }\n",
       "\n",
       "    .dataframe tbody tr th {\n",
       "        vertical-align: top;\n",
       "    }\n",
       "\n",
       "    .dataframe thead th {\n",
       "        text-align: right;\n",
       "    }\n",
       "</style>\n",
       "<table border=\"1\" class=\"dataframe\">\n",
       "  <thead>\n",
       "    <tr style=\"text-align: right;\">\n",
       "      <th></th>\n",
       "      <th>Type</th>\n",
       "      <th>Director</th>\n",
       "    </tr>\n",
       "  </thead>\n",
       "  <tbody>\n",
       "    <tr>\n",
       "      <th>0</th>\n",
       "      <td>Movie</td>\n",
       "      <td>Kirsten Johnson</td>\n",
       "    </tr>\n",
       "    <tr>\n",
       "      <th>6</th>\n",
       "      <td>Movie</td>\n",
       "      <td>Robert Cullen</td>\n",
       "    </tr>\n",
       "    <tr>\n",
       "      <th>7</th>\n",
       "      <td>Movie</td>\n",
       "      <td>José Luis Ucha</td>\n",
       "    </tr>\n",
       "    <tr>\n",
       "      <th>8</th>\n",
       "      <td>Movie</td>\n",
       "      <td>Haile Gerima</td>\n",
       "    </tr>\n",
       "    <tr>\n",
       "      <th>10</th>\n",
       "      <td>Movie</td>\n",
       "      <td>Theodore Melfi</td>\n",
       "    </tr>\n",
       "    <tr>\n",
       "      <th>13</th>\n",
       "      <td>Movie</td>\n",
       "      <td>Christian Schwochow</td>\n",
       "    </tr>\n",
       "    <tr>\n",
       "      <th>14</th>\n",
       "      <td>Movie</td>\n",
       "      <td>Bruno Garotti</td>\n",
       "    </tr>\n",
       "    <tr>\n",
       "      <th>17</th>\n",
       "      <td>Movie</td>\n",
       "      <td>Pedro de Echave García</td>\n",
       "    </tr>\n",
       "    <tr>\n",
       "      <th>18</th>\n",
       "      <td>Movie</td>\n",
       "      <td>Pablo Azorín Williams</td>\n",
       "    </tr>\n",
       "    <tr>\n",
       "      <th>20</th>\n",
       "      <td>Movie</td>\n",
       "      <td>Adam Salky</td>\n",
       "    </tr>\n",
       "  </tbody>\n",
       "</table>\n",
       "</div>"
      ],
      "text/plain": [
       "     Type                Director\n",
       "0   Movie         Kirsten Johnson\n",
       "6   Movie           Robert Cullen\n",
       "7   Movie          José Luis Ucha\n",
       "8   Movie            Haile Gerima\n",
       "10  Movie          Theodore Melfi\n",
       "13  Movie     Christian Schwochow\n",
       "14  Movie           Bruno Garotti\n",
       "17  Movie  Pedro de Echave García\n",
       "18  Movie   Pablo Azorín Williams\n",
       "20  Movie              Adam Salky"
      ]
     },
     "execution_count": 196,
     "metadata": {},
     "output_type": "execute_result"
    }
   ],
   "source": [
    "# displaying the head with 10 rows\n",
    "directors_count.head(10)"
   ]
  },
  {
   "cell_type": "code",
   "execution_count": 197,
   "id": "11722987",
   "metadata": {},
   "outputs": [
    {
     "data": {
      "text/plain": [
       "Rajiv Chilaka        22\n",
       "Jan Suter            21\n",
       "Raúl Campos          19\n",
       "Suhas Kadav          16\n",
       "Marcus Raboy         15\n",
       "                     ..\n",
       "Vrinda Samartha       1\n",
       "Nicholaus Goossen     1\n",
       "Stig Bergqvist        1\n",
       "Paul Demeyer          1\n",
       "Mozez Singh           1\n",
       "Name: Director, Length: 4777, dtype: int64"
      ]
     },
     "execution_count": 197,
     "metadata": {},
     "output_type": "execute_result"
    }
   ],
   "source": [
    "# counting the movies with same director\n",
    "directors_count['Director'].value_counts()"
   ]
  },
  {
   "cell_type": "code",
   "execution_count": 198,
   "id": "2eb98784",
   "metadata": {},
   "outputs": [
    {
     "data": {
      "text/plain": [
       "Text(0.5, 0, 'Director')"
      ]
     },
     "execution_count": 198,
     "metadata": {},
     "output_type": "execute_result"
    },
    {
     "data": {
      "image/png": "[encoded data removed]",
      "text/plain": [
       "<Figure size 640x480 with 1 Axes>"
      ]
     },
     "metadata": {},
     "output_type": "display_data"
    }
   ],
   "source": [
    "# plotting the top 10 occuring directors\n",
    "directors_count.Director.value_counts().sort_values(ascending=0)[:10].plot(kind = 'bar')\n",
    "plt.ylabel('Count')\n",
    "plt.xlabel('Director')"
   ]
  },
  {
   "cell_type": "markdown",
   "id": "d555f145",
   "metadata": {},
   "source": [
    "#### The top 5 Directors are:\n",
    "Rank|Director Name|Movies Count|\n",
    "|-----------|-----------|-----------|\n",
    "|1|Rajiv Chilaka|22|\n",
    "|2|Jan Suter|21|\n",
    "|3|Raúl Campos|19|\n",
    "|4|Suhas Kadav|16|\n",
    "|5|Marcus Raboy|15|"
   ]
  },
  {
   "cell_type": "markdown",
   "id": "7c6325bf",
   "metadata": {},
   "source": [
    "---\n",
    "### b. Which are the top 5 genres which are liked by people or here liking means listed on the portal of Netflix (you can find a count for each genre and list the top 5 genres) for movies and TV shows?"
   ]
  },
  {
   "cell_type": "code",
   "execution_count": 199,
   "id": "10218054",
   "metadata": {},
   "outputs": [],
   "source": [
    "# importing the csv file with only the required columns 'Type', 'Genres'\n",
    "genres_df = pd.read_csv('asbl_data_analyst_interview_assignment_netflix_csv.csv', usecols = ['Type', 'Genres'], encoding = 'latin')"
   ]
  },
  {
   "cell_type": "code",
   "execution_count": 200,
   "id": "6b7b680f",
   "metadata": {},
   "outputs": [],
   "source": [
    "# setting the index of a DataFrame directors to the column named 'Type', and then applies a lambda function to split each value in the DataFrame by the ',' character. \n",
    "# The result is stored in a new DataFrame called tmp.\n",
    "temp_df = genres_df.set_index('Type').apply(lambda x: x.str.split(','))\n",
    "\n",
    "# replacing any null values in the tmp DataFrame with an empty string ''.\n",
    "result_genre = (temp_df.where(temp_df.notnull(), '')\n",
    "            \n",
    "          # applying a lambda function to each row of the tmp DataFrame. \n",
    "          # The lambda function uses the zip_longest function to combine the values in each row into tuples. \n",
    "          # The resulting tuples are then converted to a list.\n",
    "          .apply(lambda x: list(zip_longest(*x)), axis = 1)\n",
    "                \n",
    "          # exploding each list in the DataFrame into separate rows, duplicating the other values in the row as necessary.\n",
    "          .explode()\n",
    "                \n",
    "          # converting each tuple in the DataFrame to a separate Series object.\n",
    "          .apply(pd.Series)\n",
    "          \n",
    "          # setting the column names of the DataFrame to the original column names of the tmp DataFrame.\n",
    "          .set_axis(temp_df.columns, axis=1)\n",
    "        \n",
    "          # resetting the index of the DataFrame, adding a new column named 'index' to store the original index values of the tmp DataFrame.\n",
    "          ).reset_index()\n",
    "\n",
    "# printing the result for debugging\n",
    "#print(result)"
   ]
  },
  {
   "cell_type": "code",
   "execution_count": 201,
   "id": "0a84ece1",
   "metadata": {},
   "outputs": [],
   "source": [
    "# dropping the Type column\n",
    "result_genre.drop(['Type'], axis = 1)\n",
    "\n",
    "# removing the leading spaces introduced while splitting the columns\n",
    "result_genre['Genres'] = result_genre['Genres'].str.lstrip()"
   ]
  },
  {
   "cell_type": "code",
   "execution_count": 202,
   "id": "6d64fbd9",
   "metadata": {},
   "outputs": [
    {
     "data": {
      "text/plain": [
       "International Movies            2752\n",
       "Dramas                          2427\n",
       "Comedies                        1674\n",
       "International TV Shows          1351\n",
       "Documentaries                    869\n",
       "Action & Adventure               859\n",
       "TV Dramas                        763\n",
       "Independent Movies               756\n",
       "Children & Family Movies         641\n",
       "Romantic Movies                  616\n",
       "TV Comedies                      581\n",
       "Thrillers                        577\n",
       "Crime TV Shows                   470\n",
       "Kids' TV                         451\n",
       "Docuseries                       395\n",
       "Music & Musicals                 375\n",
       "Romantic TV Shows                370\n",
       "Horror Movies                    357\n",
       "Stand-Up Comedy                  343\n",
       "Reality TV                       255\n",
       "British TV Shows                 253\n",
       "Sci-Fi & Fantasy                 243\n",
       "Sports Movies                    219\n",
       "Anime Series                     176\n",
       "Spanish-Language TV Shows        174\n",
       "TV Action & Adventure            168\n",
       "Korean TV Shows                  151\n",
       "Classic Movies                   116\n",
       "LGBTQ Movies                     102\n",
       "TV Mysteries                      98\n",
       "Science & Nature TV               92\n",
       "TV Sci-Fi & Fantasy               84\n",
       "TV Horror                         75\n",
       "Anime Features                    71\n",
       "Cult Movies                       71\n",
       "Teen TV Shows                     69\n",
       "Faith & Spirituality              65\n",
       "TV Thrillers                      57\n",
       "Movies                            57\n",
       "Stand-Up Comedy & Talk Shows      56\n",
       "Classic & Cult TV                 28\n",
       "TV Shows                          16\n",
       "Name: Genres, dtype: int64"
      ]
     },
     "execution_count": 202,
     "metadata": {},
     "output_type": "execute_result"
    }
   ],
   "source": [
    "# counting the most popular Genres\n",
    "result_genre['Genres'].value_counts()"
   ]
  },
  {
   "cell_type": "code",
   "execution_count": 203,
   "id": "1e8da1d1",
   "metadata": {},
   "outputs": [
    {
     "data": {
      "text/plain": [
       "Text(0.5, 0, 'Genre')"
      ]
     },
     "execution_count": 203,
     "metadata": {},
     "output_type": "execute_result"
    },
    {
     "data": {
      "image/png": "[encoded data removed]",
      "text/plain": [
       "<Figure size 640x480 with 1 Axes>"
      ]
     },
     "metadata": {},
     "output_type": "display_data"
    }
   ],
   "source": [
    "# plotting the top 10 Genres\n",
    "result_genre.Genres.value_counts().sort_values(ascending=0)[:10].plot(kind = 'bar')\n",
    "plt.ylabel('Count')\n",
    "plt.xlabel('Genre')"
   ]
  },
  {
   "cell_type": "markdown",
   "id": "ab663ba2",
   "metadata": {},
   "source": [
    "#### The top 5 Genres are liked by people:\n",
    "\n",
    "Rank|Genre|Movies Count|\n",
    "|-----------|-----------|-----------|\n",
    "|1|International Movies|2752|\n",
    "|2|Dramas|2427|\n",
    "|3|Comedies|1674|\n",
    "|4|International TV Shows|1351|\n",
    "|5|Documentaries|869|"
   ]
  },
  {
   "cell_type": "markdown",
   "id": "b90f2243",
   "metadata": {},
   "source": [
    "---\n",
    "### c. Which 2 directors should Netflix collaborate with more based on the increase in their movies or tv shows over the past years? [OPTIONAL]"
   ]
  },
  {
   "cell_type": "code",
   "execution_count": 204,
   "id": "fe8c70f1",
   "metadata": {},
   "outputs": [],
   "source": [
    "# importing the csv file with only the required columns 'Type', 'Director', 'Release_year'\n",
    "collaborate_df = pd.read_csv('asbl_data_analyst_interview_assignment_netflix_csv.csv', usecols = ['Type', 'Director', 'Release_year'], encoding = 'latin')"
   ]
  },
  {
   "cell_type": "code",
   "execution_count": 205,
   "id": "aeb7a6d7",
   "metadata": {
    "scrolled": true
   },
   "outputs": [
    {
     "name": "stdout",
     "output_type": "stream",
     "text": [
      "      Release_year     Type         Director\n",
      "0             2020    Movie  Kirsten Johnson\n",
      "1             2021  TV Show             None\n",
      "2             2021  TV Show  Julien Leclercq\n",
      "3             2021  TV Show             None\n",
      "4             2021  TV Show             None\n",
      "...            ...      ...              ...\n",
      "9607          2007    Movie    David Fincher\n",
      "9608          2018  TV Show             None\n",
      "9609          2009    Movie  Ruben Fleischer\n",
      "9610          2006    Movie     Peter Hewitt\n",
      "9611          2015    Movie      Mozez Singh\n",
      "\n",
      "[9612 rows x 3 columns]\n"
     ]
    }
   ],
   "source": [
    "# setting the index of a DataFrame directors to the column named 'Release_year', and then applies a lambda function to split each value in the DataFrame by the , character. \n",
    "# The result is stored in a new DataFrame called tmp.\n",
    "temp_df = collaborate_df.set_index('Release_year').apply(lambda x: x.str.split(','))\n",
    "\n",
    "# replacing any null values in the tmp DataFrame with an empty string ''.\n",
    "result_collaboration = (temp_df.where(temp_df.notnull(), '')\n",
    "          \n",
    "          # applying a lambda function to each row of the tmp DataFrame. \n",
    "          # The lambda function uses the zip_longest function to combine the values in each row into tuples. \n",
    "          # The resulting tuples are then converted to a list.\n",
    "          .apply(lambda x: list(zip_longest(*x)), axis = 1)\n",
    "          \n",
    "          # exploding each list in the DataFrame into separate rows, duplicating the other values in the row as necessary.\n",
    "          .explode()\n",
    "          \n",
    "          # converting each tuple in the DataFrame to a separate Series object.\n",
    "          .apply(pd.Series)\n",
    "          \n",
    "          # setting the column names of the DataFrame to the original column names of the tmp DataFrame.\n",
    "          .set_axis(temp_df.columns, axis = 1)\n",
    "          \n",
    "          # resetting the index of the DataFrame, adding a new column named 'index' to store the original index values of the tmp DataFrame.\n",
    "          ).reset_index()\n",
    "\n",
    "# printing the result for debugging\n",
    "print(result_collaboration)"
   ]
  },
  {
   "cell_type": "code",
   "execution_count": 206,
   "id": "a8bc56bc",
   "metadata": {},
   "outputs": [
    {
     "data": {
      "text/html": [
       "<div>\n",
       "<style scoped>\n",
       "    .dataframe tbody tr th:only-of-type {\n",
       "        vertical-align: middle;\n",
       "    }\n",
       "\n",
       "    .dataframe tbody tr th {\n",
       "        vertical-align: top;\n",
       "    }\n",
       "\n",
       "    .dataframe thead th {\n",
       "        text-align: right;\n",
       "    }\n",
       "</style>\n",
       "<table border=\"1\" class=\"dataframe\">\n",
       "  <thead>\n",
       "    <tr style=\"text-align: right;\">\n",
       "      <th></th>\n",
       "      <th>index</th>\n",
       "      <th>Release_year</th>\n",
       "      <th>Type</th>\n",
       "      <th>Director</th>\n",
       "    </tr>\n",
       "  </thead>\n",
       "  <tbody>\n",
       "    <tr>\n",
       "      <th>0</th>\n",
       "      <td>0</td>\n",
       "      <td>2020</td>\n",
       "      <td>Movie</td>\n",
       "      <td>Kirsten Johnson</td>\n",
       "    </tr>\n",
       "    <tr>\n",
       "      <th>1</th>\n",
       "      <td>2</td>\n",
       "      <td>2021</td>\n",
       "      <td>TV Show</td>\n",
       "      <td>Julien Leclercq</td>\n",
       "    </tr>\n",
       "    <tr>\n",
       "      <th>2</th>\n",
       "      <td>5</td>\n",
       "      <td>2021</td>\n",
       "      <td>TV Show</td>\n",
       "      <td>Mike Flanagan</td>\n",
       "    </tr>\n",
       "    <tr>\n",
       "      <th>3</th>\n",
       "      <td>6</td>\n",
       "      <td>2021</td>\n",
       "      <td>Movie</td>\n",
       "      <td>Robert Cullen</td>\n",
       "    </tr>\n",
       "    <tr>\n",
       "      <th>4</th>\n",
       "      <td>8</td>\n",
       "      <td>1993</td>\n",
       "      <td>Movie</td>\n",
       "      <td>Haile Gerima</td>\n",
       "    </tr>\n",
       "    <tr>\n",
       "      <th>...</th>\n",
       "      <td>...</td>\n",
       "      <td>...</td>\n",
       "      <td>...</td>\n",
       "      <td>...</td>\n",
       "    </tr>\n",
       "    <tr>\n",
       "      <th>6168</th>\n",
       "      <td>9606</td>\n",
       "      <td>2015</td>\n",
       "      <td>Movie</td>\n",
       "      <td>Majid Al Ansari</td>\n",
       "    </tr>\n",
       "    <tr>\n",
       "      <th>6169</th>\n",
       "      <td>9607</td>\n",
       "      <td>2007</td>\n",
       "      <td>Movie</td>\n",
       "      <td>David Fincher</td>\n",
       "    </tr>\n",
       "    <tr>\n",
       "      <th>6170</th>\n",
       "      <td>9609</td>\n",
       "      <td>2009</td>\n",
       "      <td>Movie</td>\n",
       "      <td>Ruben Fleischer</td>\n",
       "    </tr>\n",
       "    <tr>\n",
       "      <th>6171</th>\n",
       "      <td>9610</td>\n",
       "      <td>2006</td>\n",
       "      <td>Movie</td>\n",
       "      <td>Peter Hewitt</td>\n",
       "    </tr>\n",
       "    <tr>\n",
       "      <th>6172</th>\n",
       "      <td>9611</td>\n",
       "      <td>2015</td>\n",
       "      <td>Movie</td>\n",
       "      <td>Mozez Singh</td>\n",
       "    </tr>\n",
       "  </tbody>\n",
       "</table>\n",
       "<p>6173 rows × 4 columns</p>\n",
       "</div>"
      ],
      "text/plain": [
       "      index  Release_year     Type         Director\n",
       "0         0          2020    Movie  Kirsten Johnson\n",
       "1         2          2021  TV Show  Julien Leclercq\n",
       "2         5          2021  TV Show    Mike Flanagan\n",
       "3         6          2021    Movie    Robert Cullen\n",
       "4         8          1993    Movie     Haile Gerima\n",
       "...     ...           ...      ...              ...\n",
       "6168   9606          2015    Movie  Majid Al Ansari\n",
       "6169   9607          2007    Movie    David Fincher\n",
       "6170   9609          2009    Movie  Ruben Fleischer\n",
       "6171   9610          2006    Movie     Peter Hewitt\n",
       "6172   9611          2015    Movie      Mozez Singh\n",
       "\n",
       "[6173 rows x 4 columns]"
      ]
     },
     "execution_count": 206,
     "metadata": {},
     "output_type": "execute_result"
    }
   ],
   "source": [
    "# cleaning the data by dropping the Rows that do not have any Director's name and resetting the index\n",
    "clean_result = result_collaboration.dropna().reset_index() \n",
    "\n",
    "# removing the leading spaces introduced while splitting the columns\n",
    "clean_result['Director'] = clean_result['Director'].str.lstrip()\n",
    "\n",
    "# printing the new clean_result dataframe\n",
    "clean_result"
   ]
  },
  {
   "cell_type": "code",
   "execution_count": 207,
   "id": "62909dea",
   "metadata": {},
   "outputs": [],
   "source": [
    "# only considering the movies that are released after 2010 for finding the popular directors\n",
    "clean_result_final = clean_result[clean_result['Release_year'] > 2010]"
   ]
  },
  {
   "cell_type": "code",
   "execution_count": 208,
   "id": "aad0bc87",
   "metadata": {},
   "outputs": [
    {
     "data": {
      "text/html": [
       "<div>\n",
       "<style scoped>\n",
       "    .dataframe tbody tr th:only-of-type {\n",
       "        vertical-align: middle;\n",
       "    }\n",
       "\n",
       "    .dataframe tbody tr th {\n",
       "        vertical-align: top;\n",
       "    }\n",
       "\n",
       "    .dataframe thead th {\n",
       "        text-align: right;\n",
       "    }\n",
       "</style>\n",
       "<table border=\"1\" class=\"dataframe\">\n",
       "  <thead>\n",
       "    <tr style=\"text-align: right;\">\n",
       "      <th></th>\n",
       "      <th>index</th>\n",
       "      <th>Release_year</th>\n",
       "      <th>Type</th>\n",
       "      <th>Director</th>\n",
       "    </tr>\n",
       "  </thead>\n",
       "  <tbody>\n",
       "    <tr>\n",
       "      <th>0</th>\n",
       "      <td>0</td>\n",
       "      <td>2020</td>\n",
       "      <td>Movie</td>\n",
       "      <td>Kirsten Johnson</td>\n",
       "    </tr>\n",
       "    <tr>\n",
       "      <th>1</th>\n",
       "      <td>2</td>\n",
       "      <td>2021</td>\n",
       "      <td>TV Show</td>\n",
       "      <td>Julien Leclercq</td>\n",
       "    </tr>\n",
       "    <tr>\n",
       "      <th>2</th>\n",
       "      <td>5</td>\n",
       "      <td>2021</td>\n",
       "      <td>TV Show</td>\n",
       "      <td>Mike Flanagan</td>\n",
       "    </tr>\n",
       "    <tr>\n",
       "      <th>3</th>\n",
       "      <td>6</td>\n",
       "      <td>2021</td>\n",
       "      <td>Movie</td>\n",
       "      <td>Robert Cullen</td>\n",
       "    </tr>\n",
       "    <tr>\n",
       "      <th>5</th>\n",
       "      <td>9</td>\n",
       "      <td>2021</td>\n",
       "      <td>TV Show</td>\n",
       "      <td>Andy Devonshire</td>\n",
       "    </tr>\n",
       "    <tr>\n",
       "      <th>...</th>\n",
       "      <td>...</td>\n",
       "      <td>...</td>\n",
       "      <td>...</td>\n",
       "      <td>...</td>\n",
       "    </tr>\n",
       "    <tr>\n",
       "      <th>6162</th>\n",
       "      <td>9596</td>\n",
       "      <td>2011</td>\n",
       "      <td>Movie</td>\n",
       "      <td>Jason Reitman</td>\n",
       "    </tr>\n",
       "    <tr>\n",
       "      <th>6165</th>\n",
       "      <td>9599</td>\n",
       "      <td>2016</td>\n",
       "      <td>Movie</td>\n",
       "      <td>Mohamed Diab</td>\n",
       "    </tr>\n",
       "    <tr>\n",
       "      <th>6166</th>\n",
       "      <td>9603</td>\n",
       "      <td>2014</td>\n",
       "      <td>Movie</td>\n",
       "      <td>Chandra Prakash Dwivedi</td>\n",
       "    </tr>\n",
       "    <tr>\n",
       "      <th>6168</th>\n",
       "      <td>9606</td>\n",
       "      <td>2015</td>\n",
       "      <td>Movie</td>\n",
       "      <td>Majid Al Ansari</td>\n",
       "    </tr>\n",
       "    <tr>\n",
       "      <th>6172</th>\n",
       "      <td>9611</td>\n",
       "      <td>2015</td>\n",
       "      <td>Movie</td>\n",
       "      <td>Mozez Singh</td>\n",
       "    </tr>\n",
       "  </tbody>\n",
       "</table>\n",
       "<p>4870 rows × 4 columns</p>\n",
       "</div>"
      ],
      "text/plain": [
       "      index  Release_year     Type                 Director\n",
       "0         0          2020    Movie          Kirsten Johnson\n",
       "1         2          2021  TV Show          Julien Leclercq\n",
       "2         5          2021  TV Show            Mike Flanagan\n",
       "3         6          2021    Movie            Robert Cullen\n",
       "5         9          2021  TV Show          Andy Devonshire\n",
       "...     ...           ...      ...                      ...\n",
       "6162   9596          2011    Movie            Jason Reitman\n",
       "6165   9599          2016    Movie             Mohamed Diab\n",
       "6166   9603          2014    Movie  Chandra Prakash Dwivedi\n",
       "6168   9606          2015    Movie          Majid Al Ansari\n",
       "6172   9611          2015    Movie              Mozez Singh\n",
       "\n",
       "[4870 rows x 4 columns]"
      ]
     },
     "execution_count": 208,
     "metadata": {},
     "output_type": "execute_result"
    }
   ],
   "source": [
    "# printing the final cleaned dataframe\n",
    "clean_result_final"
   ]
  },
  {
   "cell_type": "code",
   "execution_count": 209,
   "id": "902fa388",
   "metadata": {},
   "outputs": [
    {
     "name": "stdout",
     "output_type": "stream",
     "text": [
      "The top two Movie directors to collaborate more with are: \n",
      "['Rajiv Chilaka', 'Raúl Campos']\n"
     ]
    }
   ],
   "source": [
    "# filtering the DataFrame to only include Movies or TV shows\n",
    "recent_movies = clean_result_final[(clean_result_final[\"Type\"] == \"Movie\") | (clean_result_final[\"Type\"] == \"TV Show\")]\n",
    "\n",
    "# grouping the recent movies by director and count the number of occurences for each director\n",
    "director_counts = recent_movies.groupby(\"Director\").size()\n",
    "\n",
    "# sorting the directors by the occurences in descending order\n",
    "sorted_directors = director_counts.sort_values(ascending = False)\n",
    "\n",
    "# printing the top two directors\n",
    "print(\"The top two Movie directors to collaborate more with are: \")\n",
    "print(sorted_directors.head(2).index.tolist())"
   ]
  },
  {
   "cell_type": "markdown",
   "id": "f6632aff",
   "metadata": {},
   "source": [
    "#### The top two directors to collaborate more with are:\n",
    "\n",
    "Rank|Name|\n",
    "|-----------|-----------|\n",
    "|1|Rajiv Chilaka|\n",
    "|2|Raúl Campos|"
   ]
  },
  {
   "cell_type": "markdown",
   "id": "5026a332",
   "metadata": {},
   "source": [
    "---\n",
    "### d. Which are the top 10 actors who are liked by people and have the most content on the Netflix OTT platform."
   ]
  },
  {
   "cell_type": "code",
   "execution_count": 210,
   "id": "4eda3496",
   "metadata": {},
   "outputs": [],
   "source": [
    "# importing the csv file with only the required columns 'Type', 'Cast'\n",
    "actors_df = pd.read_csv('asbl_data_analyst_interview_assignment_netflix_csv.csv', usecols = ['Type', 'Cast'], encoding = 'latin')"
   ]
  },
  {
   "cell_type": "code",
   "execution_count": 211,
   "id": "c208cf22",
   "metadata": {},
   "outputs": [
    {
     "name": "stdout",
     "output_type": "stream",
     "text": [
      "          Type                    Cast\n",
      "0        Movie                     NaN\n",
      "1      TV Show              Ama Qamata\n",
      "2      TV Show             Khosi Ngema\n",
      "3      TV Show           Gail Mabalane\n",
      "4      TV Show          Thabang Molaba\n",
      "...        ...                     ...\n",
      "64946    Movie        Manish Chaudhary\n",
      "64947    Movie            Meghna Malik\n",
      "64948    Movie           Malkeet Rauni\n",
      "64949    Movie          Anita Shabdish\n",
      "64950    Movie   Chittaranjan Tripathy\n",
      "\n",
      "[64951 rows x 2 columns]\n"
     ]
    }
   ],
   "source": [
    "# setting the index of a DataFrame directors to the column named 'Type', and then applies a lambda function to split each value in the DataFrame by the , character. \n",
    "# The result is stored in a new DataFrame called tmp.\n",
    "temp_df = actors_df.set_index('Type').apply(lambda x: x.str.split(','))\n",
    "\n",
    "# replacing any null values in the tmp DataFrame with an empty string ''.\n",
    "result_actors = (temp_df.where(temp_df.notnull(), '')\n",
    "          \n",
    "          # applying a lambda function to each row of the tmp DataFrame. \n",
    "          # The lambda function uses the zip_longest function to combine the values in each row into tuples. \n",
    "          # The resulting tuples are then converted to a list.\n",
    "          .apply(lambda x: list(zip_longest(*x)), axis = 1)\n",
    "          \n",
    "          # exploding each list in the DataFrame into separate rows, duplicating the other values in the row as necessary.\n",
    "          .explode()\n",
    "          \n",
    "          # converting each tuple in the DataFrame to a separate Series object.\n",
    "          .apply(pd.Series)\n",
    "          \n",
    "          # setting the column names of the DataFrame to the original column names of the tmp DataFrame.\n",
    "          .set_axis(temp_df.columns, axis = 1)\n",
    "          \n",
    "          # resetting the index of the DataFrame, adding a new column named 'index' to store the original index values of the tmp DataFrame.\n",
    "          ).reset_index()\n",
    "\n",
    "# printing the result for debugging\n",
    "print(result_actors)"
   ]
  },
  {
   "cell_type": "code",
   "execution_count": 212,
   "id": "0de27a16",
   "metadata": {},
   "outputs": [
    {
     "data": {
      "text/html": [
       "<div>\n",
       "<style scoped>\n",
       "    .dataframe tbody tr th:only-of-type {\n",
       "        vertical-align: middle;\n",
       "    }\n",
       "\n",
       "    .dataframe tbody tr th {\n",
       "        vertical-align: top;\n",
       "    }\n",
       "\n",
       "    .dataframe thead th {\n",
       "        text-align: right;\n",
       "    }\n",
       "</style>\n",
       "<table border=\"1\" class=\"dataframe\">\n",
       "  <thead>\n",
       "    <tr style=\"text-align: right;\">\n",
       "      <th></th>\n",
       "      <th>index</th>\n",
       "      <th>Type</th>\n",
       "      <th>Cast</th>\n",
       "    </tr>\n",
       "  </thead>\n",
       "  <tbody>\n",
       "    <tr>\n",
       "      <th>0</th>\n",
       "      <td>1</td>\n",
       "      <td>TV Show</td>\n",
       "      <td>Ama Qamata</td>\n",
       "    </tr>\n",
       "    <tr>\n",
       "      <th>1</th>\n",
       "      <td>2</td>\n",
       "      <td>TV Show</td>\n",
       "      <td>Khosi Ngema</td>\n",
       "    </tr>\n",
       "    <tr>\n",
       "      <th>2</th>\n",
       "      <td>3</td>\n",
       "      <td>TV Show</td>\n",
       "      <td>Gail Mabalane</td>\n",
       "    </tr>\n",
       "    <tr>\n",
       "      <th>3</th>\n",
       "      <td>4</td>\n",
       "      <td>TV Show</td>\n",
       "      <td>Thabang Molaba</td>\n",
       "    </tr>\n",
       "    <tr>\n",
       "      <th>4</th>\n",
       "      <td>5</td>\n",
       "      <td>TV Show</td>\n",
       "      <td>Dillon Windvogel</td>\n",
       "    </tr>\n",
       "    <tr>\n",
       "      <th>...</th>\n",
       "      <td>...</td>\n",
       "      <td>...</td>\n",
       "      <td>...</td>\n",
       "    </tr>\n",
       "    <tr>\n",
       "      <th>64121</th>\n",
       "      <td>64946</td>\n",
       "      <td>Movie</td>\n",
       "      <td>Manish Chaudhary</td>\n",
       "    </tr>\n",
       "    <tr>\n",
       "      <th>64122</th>\n",
       "      <td>64947</td>\n",
       "      <td>Movie</td>\n",
       "      <td>Meghna Malik</td>\n",
       "    </tr>\n",
       "    <tr>\n",
       "      <th>64123</th>\n",
       "      <td>64948</td>\n",
       "      <td>Movie</td>\n",
       "      <td>Malkeet Rauni</td>\n",
       "    </tr>\n",
       "    <tr>\n",
       "      <th>64124</th>\n",
       "      <td>64949</td>\n",
       "      <td>Movie</td>\n",
       "      <td>Anita Shabdish</td>\n",
       "    </tr>\n",
       "    <tr>\n",
       "      <th>64125</th>\n",
       "      <td>64950</td>\n",
       "      <td>Movie</td>\n",
       "      <td>Chittaranjan Tripathy</td>\n",
       "    </tr>\n",
       "  </tbody>\n",
       "</table>\n",
       "<p>64126 rows × 3 columns</p>\n",
       "</div>"
      ],
      "text/plain": [
       "       index     Type                   Cast\n",
       "0          1  TV Show             Ama Qamata\n",
       "1          2  TV Show            Khosi Ngema\n",
       "2          3  TV Show          Gail Mabalane\n",
       "3          4  TV Show         Thabang Molaba\n",
       "4          5  TV Show       Dillon Windvogel\n",
       "...      ...      ...                    ...\n",
       "64121  64946    Movie       Manish Chaudhary\n",
       "64122  64947    Movie           Meghna Malik\n",
       "64123  64948    Movie          Malkeet Rauni\n",
       "64124  64949    Movie         Anita Shabdish\n",
       "64125  64950    Movie  Chittaranjan Tripathy\n",
       "\n",
       "[64126 rows x 3 columns]"
      ]
     },
     "execution_count": 212,
     "metadata": {},
     "output_type": "execute_result"
    }
   ],
   "source": [
    "# cleaning the data by dropping the Rows that do not have any Actor's name and resetting the index\n",
    "clean_result = result_actors.dropna().reset_index() \n",
    "\n",
    "# removing the leading spaces introduced while splitting the columns\n",
    "clean_result['Cast'] = clean_result['Cast'].str.lstrip()\n",
    "\n",
    "# printing the cleaned dataframe\n",
    "clean_result"
   ]
  },
  {
   "cell_type": "code",
   "execution_count": 213,
   "id": "efe96b50",
   "metadata": {},
   "outputs": [
    {
     "data": {
      "text/plain": [
       "Anupam Kher         43\n",
       "Shah Rukh Khan      35\n",
       "Julie Tejwani       33\n",
       "Naseeruddin Shah    32\n",
       "Takahiro Sakurai    32\n",
       "Rupa Bhimani        31\n",
       "Akshay Kumar        30\n",
       "Om Puri             30\n",
       "Yuki Kaji           29\n",
       "Paresh Rawal        28\n",
       "Name: Cast, dtype: int64"
      ]
     },
     "execution_count": 213,
     "metadata": {},
     "output_type": "execute_result"
    }
   ],
   "source": [
    "# counting the most popular Cast\n",
    "clean_result['Cast'].value_counts().nlargest(10)"
   ]
  },
  {
   "cell_type": "code",
   "execution_count": 214,
   "id": "1e6a3b45",
   "metadata": {},
   "outputs": [
    {
     "data": {
      "text/plain": [
       "Text(0.5, 0, 'Genre')"
      ]
     },
     "execution_count": 214,
     "metadata": {},
     "output_type": "execute_result"
    },
    {
     "data": {
      "image/png": "[encoded data removed]",
      "text/plain": [
       "<Figure size 640x480 with 1 Axes>"
      ]
     },
     "metadata": {},
     "output_type": "display_data"
    }
   ],
   "source": [
    "# plotting a Bar Plot for the 10 most popular Cast\n",
    "clean_result.Cast.value_counts().sort_values(ascending=0)[:20].plot(kind = 'bar')\n",
    "plt.ylabel('Count')\n",
    "plt.xlabel('Genre')"
   ]
  },
  {
   "cell_type": "markdown",
   "id": "237c2a9c",
   "metadata": {},
   "source": [
    "#### The top 10 actors who are liked by people and have the most content on the Netflix OTT platform:\n",
    "\n",
    "Rank|Name|Movie Count|\n",
    "|-----------|-----------|--------|\n",
    "1| Anupam Kher|43\n",
    "2| Shah Rukh Khan|35\n",
    "3| Julie Tejwani|33\n",
    "4| Naseeruddin Shah|32\n",
    "5| Takahiro Sakurai|32\n",
    "6| Rupa Bhimani|31\n",
    "7| Akshay Kumar|30\n",
    "8| Om Puri|30\n",
    "9| Yuki Kaji|29\n",
    "10| Paresh Rawal|28"
   ]
  },
  {
   "cell_type": "markdown",
   "id": "4abdb11b",
   "metadata": {},
   "source": [
    "---\n",
    "### e. Which 2 actors should Netflix collaborate with more based on the increase in their movies or tv shows over the past years? [OPTIONAL]"
   ]
  },
  {
   "cell_type": "code",
   "execution_count": 215,
   "id": "604464e3",
   "metadata": {},
   "outputs": [],
   "source": [
    "# importing the csv file with only the required columns 'Type', 'Cast', 'Release_year'\n",
    "actors_collaborate = pd.read_csv('asbl_data_analyst_interview_assignment_netflix_csv.csv', usecols = ['Type', 'Cast', 'Release_year'], encoding = 'latin')"
   ]
  },
  {
   "cell_type": "code",
   "execution_count": 216,
   "id": "bce0535b",
   "metadata": {},
   "outputs": [
    {
     "name": "stdout",
     "output_type": "stream",
     "text": [
      "       Release_year     Type                    Cast\n",
      "0              2020    Movie                    None\n",
      "1              2021  TV Show              Ama Qamata\n",
      "2              2021     None             Khosi Ngema\n",
      "3              2021     None           Gail Mabalane\n",
      "4              2021     None          Thabang Molaba\n",
      "...             ...      ...                     ...\n",
      "64946          2015     None        Manish Chaudhary\n",
      "64947          2015     None            Meghna Malik\n",
      "64948          2015     None           Malkeet Rauni\n",
      "64949          2015     None          Anita Shabdish\n",
      "64950          2015     None   Chittaranjan Tripathy\n",
      "\n",
      "[64951 rows x 3 columns]\n"
     ]
    }
   ],
   "source": [
    "# setting the index of a DataFrame directors to the column named 'Type', and then applies a lambda function to split each value in the DataFrame by the , character. \n",
    "# The result is stored in a new DataFrame called tmp.\n",
    "temp_df = actors_collaborate.set_index('Release_year').apply(lambda x: x.str.split(','))\n",
    "\n",
    "# replacing any null values in the tmp DataFrame with an empty string ''.\n",
    "result_collaborate_actors = (temp_df.where(temp_df.notnull(), '')\n",
    "          \n",
    "          # applying a lambda function to each row of the tmp DataFrame. \n",
    "          # The lambda function uses the zip_longest function to combine the values in each row into tuples. \n",
    "          # The resulting tuples are then converted to a list.\n",
    "          .apply(lambda x: list(zip_longest(*x)), axis = 1)\n",
    "          \n",
    "          # exploding each list in the DataFrame into separate rows, duplicating the other values in the row as necessary.\n",
    "          .explode()\n",
    "          \n",
    "          # converting each tuple in the DataFrame to a separate Series object.\n",
    "          .apply(pd.Series)\n",
    "          \n",
    "          # setting the column names of the DataFrame to the original column names of the tmp DataFrame.\n",
    "          .set_axis(temp_df.columns, axis = 1)\n",
    "          \n",
    "          # resetting the index of the DataFrame, adding a new column named 'index' to store the original index values of the tmp DataFrame.\n",
    "          ).reset_index()\n",
    "\n",
    "# printing the result for debugging\n",
    "print(result_collaborate_actors)"
   ]
  },
  {
   "cell_type": "code",
   "execution_count": 217,
   "id": "be376210",
   "metadata": {},
   "outputs": [
    {
     "data": {
      "text/html": [
       "<div>\n",
       "<style scoped>\n",
       "    .dataframe tbody tr th:only-of-type {\n",
       "        vertical-align: middle;\n",
       "    }\n",
       "\n",
       "    .dataframe tbody tr th {\n",
       "        vertical-align: top;\n",
       "    }\n",
       "\n",
       "    .dataframe thead th {\n",
       "        text-align: right;\n",
       "    }\n",
       "</style>\n",
       "<table border=\"1\" class=\"dataframe\">\n",
       "  <thead>\n",
       "    <tr style=\"text-align: right;\">\n",
       "      <th></th>\n",
       "      <th>index</th>\n",
       "      <th>Release_year</th>\n",
       "      <th>Type</th>\n",
       "      <th>Cast</th>\n",
       "    </tr>\n",
       "  </thead>\n",
       "  <tbody>\n",
       "    <tr>\n",
       "      <th>0</th>\n",
       "      <td>1</td>\n",
       "      <td>2021</td>\n",
       "      <td>TV Show</td>\n",
       "      <td>Ama Qamata</td>\n",
       "    </tr>\n",
       "    <tr>\n",
       "      <th>1</th>\n",
       "      <td>20</td>\n",
       "      <td>2021</td>\n",
       "      <td>TV Show</td>\n",
       "      <td>Sami Bouajila</td>\n",
       "    </tr>\n",
       "    <tr>\n",
       "      <th>2</th>\n",
       "      <td>30</td>\n",
       "      <td>2021</td>\n",
       "      <td>TV Show</td>\n",
       "      <td>Mayur More</td>\n",
       "    </tr>\n",
       "    <tr>\n",
       "      <th>3</th>\n",
       "      <td>38</td>\n",
       "      <td>2021</td>\n",
       "      <td>TV Show</td>\n",
       "      <td>Kate Siegel</td>\n",
       "    </tr>\n",
       "    <tr>\n",
       "      <th>4</th>\n",
       "      <td>54</td>\n",
       "      <td>2021</td>\n",
       "      <td>Movie</td>\n",
       "      <td>Vanessa Hudgens</td>\n",
       "    </tr>\n",
       "    <tr>\n",
       "      <th>...</th>\n",
       "      <td>...</td>\n",
       "      <td>...</td>\n",
       "      <td>...</td>\n",
       "      <td>...</td>\n",
       "    </tr>\n",
       "    <tr>\n",
       "      <th>7977</th>\n",
       "      <td>64910</td>\n",
       "      <td>2015</td>\n",
       "      <td>Movie</td>\n",
       "      <td>Ali Suliman</td>\n",
       "    </tr>\n",
       "    <tr>\n",
       "      <th>7978</th>\n",
       "      <td>64916</td>\n",
       "      <td>2007</td>\n",
       "      <td>Movie</td>\n",
       "      <td>Mark Ruffalo</td>\n",
       "    </tr>\n",
       "    <tr>\n",
       "      <th>7979</th>\n",
       "      <td>64927</td>\n",
       "      <td>2009</td>\n",
       "      <td>Movie</td>\n",
       "      <td>Jesse Eisenberg</td>\n",
       "    </tr>\n",
       "    <tr>\n",
       "      <th>7980</th>\n",
       "      <td>64934</td>\n",
       "      <td>2006</td>\n",
       "      <td>Movie</td>\n",
       "      <td>Tim Allen</td>\n",
       "    </tr>\n",
       "    <tr>\n",
       "      <th>7981</th>\n",
       "      <td>64943</td>\n",
       "      <td>2015</td>\n",
       "      <td>Movie</td>\n",
       "      <td>Vicky Kaushal</td>\n",
       "    </tr>\n",
       "  </tbody>\n",
       "</table>\n",
       "<p>7982 rows × 4 columns</p>\n",
       "</div>"
      ],
      "text/plain": [
       "      index  Release_year     Type             Cast\n",
       "0         1          2021  TV Show       Ama Qamata\n",
       "1        20          2021  TV Show    Sami Bouajila\n",
       "2        30          2021  TV Show       Mayur More\n",
       "3        38          2021  TV Show      Kate Siegel\n",
       "4        54          2021    Movie  Vanessa Hudgens\n",
       "...     ...           ...      ...              ...\n",
       "7977  64910          2015    Movie      Ali Suliman\n",
       "7978  64916          2007    Movie     Mark Ruffalo\n",
       "7979  64927          2009    Movie  Jesse Eisenberg\n",
       "7980  64934          2006    Movie        Tim Allen\n",
       "7981  64943          2015    Movie    Vicky Kaushal\n",
       "\n",
       "[7982 rows x 4 columns]"
      ]
     },
     "execution_count": 217,
     "metadata": {},
     "output_type": "execute_result"
    }
   ],
   "source": [
    "# dropping the Rows that do not have an Actor's name\n",
    "clean_result = result_collaborate_actors.dropna().reset_index() \n",
    "\n",
    "# removing the leading spaces introduced while splitting the columns\n",
    "clean_result['Cast'] = clean_result['Cast'].str.lstrip()\n",
    "\n",
    "# printing the cleaned dataframe\n",
    "clean_result"
   ]
  },
  {
   "cell_type": "code",
   "execution_count": 218,
   "id": "d5496675",
   "metadata": {},
   "outputs": [],
   "source": [
    "# only considering the movies that are released after 2010 for finding the popular actors\n",
    "clean_result_final = clean_result[clean_result['Release_year'] > 2010]"
   ]
  },
  {
   "cell_type": "code",
   "execution_count": 219,
   "id": "f71b9f9c",
   "metadata": {},
   "outputs": [
    {
     "data": {
      "text/html": [
       "<div>\n",
       "<style scoped>\n",
       "    .dataframe tbody tr th:only-of-type {\n",
       "        vertical-align: middle;\n",
       "    }\n",
       "\n",
       "    .dataframe tbody tr th {\n",
       "        vertical-align: top;\n",
       "    }\n",
       "\n",
       "    .dataframe thead th {\n",
       "        text-align: right;\n",
       "    }\n",
       "</style>\n",
       "<table border=\"1\" class=\"dataframe\">\n",
       "  <thead>\n",
       "    <tr style=\"text-align: right;\">\n",
       "      <th></th>\n",
       "      <th>index</th>\n",
       "      <th>Release_year</th>\n",
       "      <th>Type</th>\n",
       "      <th>Cast</th>\n",
       "    </tr>\n",
       "  </thead>\n",
       "  <tbody>\n",
       "    <tr>\n",
       "      <th>0</th>\n",
       "      <td>1</td>\n",
       "      <td>2021</td>\n",
       "      <td>TV Show</td>\n",
       "      <td>Ama Qamata</td>\n",
       "    </tr>\n",
       "    <tr>\n",
       "      <th>1</th>\n",
       "      <td>20</td>\n",
       "      <td>2021</td>\n",
       "      <td>TV Show</td>\n",
       "      <td>Sami Bouajila</td>\n",
       "    </tr>\n",
       "    <tr>\n",
       "      <th>2</th>\n",
       "      <td>30</td>\n",
       "      <td>2021</td>\n",
       "      <td>TV Show</td>\n",
       "      <td>Mayur More</td>\n",
       "    </tr>\n",
       "    <tr>\n",
       "      <th>3</th>\n",
       "      <td>38</td>\n",
       "      <td>2021</td>\n",
       "      <td>TV Show</td>\n",
       "      <td>Kate Siegel</td>\n",
       "    </tr>\n",
       "    <tr>\n",
       "      <th>4</th>\n",
       "      <td>54</td>\n",
       "      <td>2021</td>\n",
       "      <td>Movie</td>\n",
       "      <td>Vanessa Hudgens</td>\n",
       "    </tr>\n",
       "    <tr>\n",
       "      <th>...</th>\n",
       "      <td>...</td>\n",
       "      <td>...</td>\n",
       "      <td>...</td>\n",
       "      <td>...</td>\n",
       "    </tr>\n",
       "    <tr>\n",
       "      <th>7973</th>\n",
       "      <td>64876</td>\n",
       "      <td>2016</td>\n",
       "      <td>TV Show</td>\n",
       "      <td>Michael Johnston</td>\n",
       "    </tr>\n",
       "    <tr>\n",
       "      <th>7974</th>\n",
       "      <td>64883</td>\n",
       "      <td>2014</td>\n",
       "      <td>Movie</td>\n",
       "      <td>Adil Hussain</td>\n",
       "    </tr>\n",
       "    <tr>\n",
       "      <th>7976</th>\n",
       "      <td>64901</td>\n",
       "      <td>2012</td>\n",
       "      <td>TV Show</td>\n",
       "      <td>Sanam Saeed</td>\n",
       "    </tr>\n",
       "    <tr>\n",
       "      <th>7977</th>\n",
       "      <td>64910</td>\n",
       "      <td>2015</td>\n",
       "      <td>Movie</td>\n",
       "      <td>Ali Suliman</td>\n",
       "    </tr>\n",
       "    <tr>\n",
       "      <th>7981</th>\n",
       "      <td>64943</td>\n",
       "      <td>2015</td>\n",
       "      <td>Movie</td>\n",
       "      <td>Vicky Kaushal</td>\n",
       "    </tr>\n",
       "  </tbody>\n",
       "</table>\n",
       "<p>6495 rows × 4 columns</p>\n",
       "</div>"
      ],
      "text/plain": [
       "      index  Release_year     Type              Cast\n",
       "0         1          2021  TV Show        Ama Qamata\n",
       "1        20          2021  TV Show     Sami Bouajila\n",
       "2        30          2021  TV Show        Mayur More\n",
       "3        38          2021  TV Show       Kate Siegel\n",
       "4        54          2021    Movie   Vanessa Hudgens\n",
       "...     ...           ...      ...               ...\n",
       "7973  64876          2016  TV Show  Michael Johnston\n",
       "7974  64883          2014    Movie      Adil Hussain\n",
       "7976  64901          2012  TV Show       Sanam Saeed\n",
       "7977  64910          2015    Movie       Ali Suliman\n",
       "7981  64943          2015    Movie     Vicky Kaushal\n",
       "\n",
       "[6495 rows x 4 columns]"
      ]
     },
     "execution_count": 219,
     "metadata": {},
     "output_type": "execute_result"
    }
   ],
   "source": [
    "# printing the cleaned dataframe\n",
    "clean_result_final"
   ]
  },
  {
   "cell_type": "code",
   "execution_count": 220,
   "id": "e0db4f10",
   "metadata": {},
   "outputs": [
    {
     "name": "stdout",
     "output_type": "stream",
     "text": [
      "The top two Actors to collaborate more with are:\n",
      "['David Attenborough', 'Michela Luci']\n"
     ]
    }
   ],
   "source": [
    "# filtering the DataFrame to only include movies or TV shows released on or after 2010\n",
    "recent_actors = clean_result_final[(clean_result_final[\"Type\"] == \"Movie\") | (clean_result_final[\"Type\"] == \"TV Show\")]\n",
    "\n",
    "# grouping the recent movies by director and count the number of movies for each director\n",
    "actor_counts = recent_actors.groupby(\"Cast\").size()\n",
    "\n",
    "# sorting the directors by the number of movies they've directed in descending order\n",
    "sorted_actors = actor_counts.sort_values(ascending = False)\n",
    "\n",
    "# printing the top two actors\n",
    "print(\"The top two Actors to collaborate more with are:\")\n",
    "print(sorted_actors.head(2).index.tolist())"
   ]
  },
  {
   "cell_type": "markdown",
   "id": "0ea58f32",
   "metadata": {},
   "source": [
    "#### The top two actors based on the increase in their movies or tv shows over the past years:\n",
    "\n",
    "Rank|Name|\n",
    "|-----------|-----------|\n",
    "1| David Attenborough|\n",
    "2| Michela Luci|"
   ]
  },
  {
   "cell_type": "code",
   "execution_count": null,
   "id": "5227873e",
   "metadata": {},
   "outputs": [],
   "source": []
  }
 ],
 "metadata": {
  "kernelspec": {
   "display_name": "Python 3 (ipykernel)",
   "language": "python",
   "name": "python3"
  },
  "language_info": {
   "codemirror_mode": {
    "name": "ipython",
    "version": 3
   },
   "file_extension": ".py",
   "mimetype": "text/x-python",
   "name": "python",
   "nbconvert_exporter": "python",
   "pygments_lexer": "ipython3",
   "version": "3.11.2"
  }
 },
 "nbformat": 4,
 "nbformat_minor": 5
}
